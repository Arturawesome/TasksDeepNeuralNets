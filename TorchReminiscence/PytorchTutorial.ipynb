{
 "cells": [
  {
   "cell_type": "markdown",
   "id": "94239b29-a8b0-4a1f-91a6-290152638bb4",
   "metadata": {},
   "source": [
    "# PyTorch Tutorial for Deep Learning. Refresh the reminiscence\n",
    "## Content:\n",
    "1. Basisc of Pytorch (Matrices, Math and Variables)\n",
    "2. Linear Regression\n",
    "3. Artificial Neural Network (ANN)\n",
    "4. Convolutional NN (CNN)\n",
    "5. Recurrent NN\n",
    "6. Long-Short Tem Memory (LSTM)\n",
    "\n",
    "source from [KagglePage](https://www.kaggle.com/code/kanncaa1/pytorch-tutorial-for-deep-learning-lovers)"
   ]
  },
  {
   "cell_type": "code",
   "execution_count": 1,
   "id": "59849307-0f07-4337-bf95-16809b3f40fa",
   "metadata": {},
   "outputs": [],
   "source": [
    "import numpy as np\n",
    "import pandas as pd\n",
    "import matplotlib.pyplot as plt\n",
    "import os\n",
    "import torch\n"
   ]
  },
  {
   "cell_type": "code",
   "execution_count": 13,
   "id": "9f3392fa-93be-440f-85f1-bb4b7f4268e0",
   "metadata": {},
   "outputs": [
    {
     "ename": "ModuleNotFoundError",
     "evalue": "No module named 'notebook.services'",
     "output_type": "error",
     "traceback": [
      "\u001b[0;31m---------------------------------------------------------------------------\u001b[0m",
      "\u001b[0;31mModuleNotFoundError\u001b[0m                       Traceback (most recent call last)",
      "Cell \u001b[0;32mIn[13], line 1\u001b[0m\n\u001b[0;32m----> 1\u001b[0m \u001b[38;5;28;01mfrom\u001b[39;00m \u001b[38;5;21;01mnotebook\u001b[39;00m\u001b[38;5;21;01m.\u001b[39;00m\u001b[38;5;21;01mservices\u001b[39;00m\u001b[38;5;21;01m.\u001b[39;00m\u001b[38;5;21;01mconfig\u001b[39;00m \u001b[38;5;28;01mimport\u001b[39;00m ConfigManager\n\u001b[1;32m      2\u001b[0m cm \u001b[38;5;241m=\u001b[39m ConfigManager()\n\u001b[1;32m      3\u001b[0m cm\u001b[38;5;241m.\u001b[39mupdate(\u001b[38;5;124m'\u001b[39m\u001b[38;5;124mnotebook\u001b[39m\u001b[38;5;124m'\u001b[39m, {\u001b[38;5;124m'\u001b[39m\u001b[38;5;124mhighlight_selected_word\u001b[39m\u001b[38;5;124m'\u001b[39m: {\n\u001b[1;32m      4\u001b[0m     \u001b[38;5;124m'\u001b[39m\u001b[38;5;124mdelay\u001b[39m\u001b[38;5;124m'\u001b[39m: \u001b[38;5;241m500\u001b[39m,\n\u001b[1;32m      5\u001b[0m     \u001b[38;5;124m'\u001b[39m\u001b[38;5;124mcode_cells_only\u001b[39m\u001b[38;5;124m'\u001b[39m: \u001b[38;5;28;01mTrue\u001b[39;00m,\n\u001b[1;32m      6\u001b[0m }})\n",
      "\u001b[0;31mModuleNotFoundError\u001b[0m: No module named 'notebook.services'"
     ]
    }
   ],
   "source": [
    "from notebook.services.config import ConfigManager\n",
    "cm = ConfigManager()\n",
    "cm.update('notebook', {'highlight_selected_word': {\n",
    "    'delay': 500,\n",
    "    'code_cells_only': True,\n",
    "}})"
   ]
  },
  {
   "cell_type": "code",
   "execution_count": 9,
   "id": "494fb4cd-9ec1-41f1-8a13-3e81edb8e3b5",
   "metadata": {},
   "outputs": [
    {
     "name": "stdout",
     "output_type": "stream",
     "text": [
      "Array type: <class 'numpy.ndarray'>\n",
      "(2, 3)\n"
     ]
    }
   ],
   "source": [
    "first_array = np.array([[1, 2, 3], [4, 5, 6]])\n",
    "print(\"Array type: %s\" %type(first_array))\n",
    "print(first_array.shape)\n",
    "print(first_array)"
   ]
  },
  {
   "cell_type": "code",
   "execution_count": 12,
   "id": "b7219b4f-b3d0-4919-88f0-c2ec6361e941",
   "metadata": {},
   "outputs": [
    {
     "name": "stdout",
     "output_type": "stream",
     "text": [
      "Array type: <class 'torch.Tensor'>\n",
      "torch.Size([2, 3])\n"
     ]
    }
   ],
   "source": [
    "tensor = torch.tensor(first_array)\n",
    "print(\"Array type: %s\" %type(tensor))\n",
    "print(tensor.shape)"
   ]
  },
  {
   "cell_type": "code",
   "execution_count": null,
   "id": "b86a3ed4-e25d-44a3-83c2-da3e9e872144",
   "metadata": {},
   "outputs": [],
   "source": []
  },
  {
   "cell_type": "code",
   "execution_count": null,
   "id": "823779df-6f24-4b99-b82c-a43700e86337",
   "metadata": {},
   "outputs": [],
   "source": []
  }
 ],
 "metadata": {
  "kernelspec": {
   "display_name": "Python 3 (ipykernel)",
   "language": "python",
   "name": "python3"
  },
  "language_info": {
   "codemirror_mode": {
    "name": "ipython",
    "version": 3
   },
   "file_extension": ".py",
   "mimetype": "text/x-python",
   "name": "python",
   "nbconvert_exporter": "python",
   "pygments_lexer": "ipython3",
   "version": "3.11.3"
  }
 },
 "nbformat": 4,
 "nbformat_minor": 5
}
