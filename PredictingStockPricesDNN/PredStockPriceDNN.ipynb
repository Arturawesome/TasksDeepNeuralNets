{
 "cells": [
  {
   "cell_type": "code",
   "execution_count": 4,
   "id": "f383da6b",
   "metadata": {},
   "outputs": [
    {
     "name": "stdout",
     "output_type": "stream",
     "text": [
      "All libraries loaded\n"
     ]
    }
   ],
   "source": [
    "import numpy as np\n",
    "import torch\n",
    "import torch.nn as nn\n",
    "import torch.nn.functional as F\n",
    "import torch.optim as optim\n",
    "from torch.utils.data import Dataset\n",
    "from torch.utils.data import DataLoader\n",
    "\n",
    "\n",
    "import matplotlib.pyplot as plt\n",
    "from alpha_vantage.timeseries import TimeSeries \n",
    "\n",
    "from alpha_vantage.timeseries import TimeSeries \n",
    "\n",
    "\n",
    "print(\"All libraries loaded\")"
   ]
  },
  {
   "cell_type": "code",
   "execution_count": 13,
   "id": "19f20d74",
   "metadata": {},
   "outputs": [
    {
     "data": {
      "text/plain": [
       "device(type='cuda', index=0)"
      ]
     },
     "execution_count": 13,
     "metadata": {},
     "output_type": "execute_result"
    }
   ],
   "source": [
    "device = torch.device('cuda:0') if torch.cuda.is_available() else torch.device('cpu') \n",
    "device\n",
    "#0) Prepare data\n",
    "#1) Model preparation\n",
    "#2) Training loop:\n",
    "#    2.1) forward pass: predicted and loss\n",
    "#    2.2) backward pass: optimizer step, loss backward\n",
    "# https://www.kaggle.com/code/victoriamiller19/predicting-stock-prices-with-deep-neural-networks/notebook"
   ]
  },
  {
   "cell_type": "code",
   "execution_count": 7,
   "id": "154608eb",
   "metadata": {},
   "outputs": [
    {
     "name": "stdout",
     "output_type": "stream",
     "text": [
      "                     1. open  2. high  3. low  4. close  5. volume\n",
      "date                                                              \n",
      "2023-05-04 19:42:00   122.70   122.70  122.70    122.70      501.0\n",
      "2023-05-04 19:27:00   122.65   122.65  122.65    122.65      215.0\n"
     ]
    }
   ],
   "source": [
    "# ======================================\n",
    "# ============Data preparing============\n",
    "# ======================================\n",
    "\n",
    "API_key = \"B4BZJ2ZA0MGDODUA\"\n",
    "company = \"IBM\"\n",
    "\n",
    "ts = TimeSeries(key=API_key, output_format='pandas')\n",
    "data, meta_data = ts.get_intraday(symbol=company, interval='1min', outputsize='full')\n",
    "print(data.head(2))"
   ]
  },
  {
   "cell_type": "code",
   "execution_count": 14,
   "id": "b34652d7",
   "metadata": {
    "scrolled": false
   },
   "outputs": [
    {
     "name": "stdout",
     "output_type": "stream",
     "text": [
      "64\n"
     ]
    }
   ],
   "source": [
    "# set all configures in one dictonary\n",
    "conf = { \"train\": { \"device\":device,\n",
    "                    \"batch_size\": 64,\n",
    "                    \"epoch_amount\": 100,\n",
    "                    \"lr\": 0.01},\n",
    "        \"train_test_split\": 0.8\n",
    "       }\n",
    "print(conf[\"train\"][\"batch_size\"])\n"
   ]
  },
  {
   "cell_type": "code",
   "execution_count": null,
   "id": "0822e212",
   "metadata": {},
   "outputs": [],
   "source": []
  },
  {
   "cell_type": "code",
   "execution_count": null,
   "id": "b1d4722e",
   "metadata": {},
   "outputs": [],
   "source": [
    "\n",
    "\n",
    "\n",
    "\n",
    "\n",
    "\n",
    "\n",
    "\n",
    "\n",
    "\n",
    "\n",
    "\n",
    "\n",
    "\n",
    "\n",
    "\n",
    "\n",
    "\n",
    "\n",
    "\n",
    "\n",
    "\n",
    "\n",
    "\n",
    "\n",
    "\n",
    "\n",
    "\n",
    "\n",
    "\n",
    "\n",
    "\n",
    "\n",
    "\n",
    "\n",
    "\n"
   ]
  }
 ],
 "metadata": {
  "kernelspec": {
   "display_name": "Python 3 (ipykernel)",
   "language": "python",
   "name": "python3"
  },
  "language_info": {
   "codemirror_mode": {
    "name": "ipython",
    "version": 3
   },
   "file_extension": ".py",
   "mimetype": "text/x-python",
   "name": "python",
   "nbconvert_exporter": "python",
   "pygments_lexer": "ipython3",
   "version": "3.10.10"
  }
 },
 "nbformat": 4,
 "nbformat_minor": 5
}
